{
 "cells": [
  {
   "cell_type": "markdown",
   "metadata": {
    "deletable": true,
    "editable": true
   },
   "source": [
    "# Talks markdown generator for academicpages\n",
    "\n",
    "Takes a TSV of talks with metadata and converts them for use with [academicpages.github.io](academicpages.github.io). This is an interactive Jupyter notebook ([see more info here](http://jupyter-notebook-beginner-guide.readthedocs.io/en/latest/what_is_jupyter.html)). The core python code is also in `talks.py`. Run either from the `markdown_generator` folder after replacing `talks.tsv` with one containing your data.\n",
    "\n",
    "TODO: Make this work with BibTex and other databases, rather than Stuart's non-standard TSV format and citation style."
   ]
  },
  {
   "cell_type": "code",
   "execution_count": 1,
   "metadata": {
    "collapsed": false,
    "deletable": true,
    "editable": true
   },
   "outputs": [],
   "source": [
    "import pandas as pd\n",
    "import os"
   ]
  },
  {
   "cell_type": "markdown",
   "metadata": {},
   "source": [
    "## Data format\n",
    "\n",
    "The TSV needs to have the following columns: title, type, url_slug, venue, date, location, talk_url, description, with a header at the top. Many of these fields can be blank, but the columns must be in the TSV.\n",
    "\n",
    "- Fields that cannot be blank: `title`, `url_slug`, `date`. All else can be blank. `type` defaults to \"Talk\" \n",
    "- `date` must be formatted as YYYY-MM-DD.\n",
    "- `url_slug` will be the descriptive part of the .md file and the permalink URL for the page about the paper. \n",
    "    - The .md file will be `YYYY-MM-DD-[url_slug].md` and the permalink will be `https://[yourdomain]/talks/YYYY-MM-DD-[url_slug]`\n",
    "    - The combination of `url_slug` and `date` must be unique, as it will be the basis for your filenames\n",
    "\n",
    "This is how the raw file looks (it doesn't look pretty, use a spreadsheet or other program to edit and create)."
   ]
  },
  {
   "cell_type": "code",
   "execution_count": 2,
   "metadata": {
    "collapsed": false
   },
   "outputs": [
    {
     "name": "stdout",
     "output_type": "stream",
     "text": [
      "title\ttype\turl_slug\tvenue\tdate\tlocation\ttalk_url\tdescription\n",
      "The Metaverse and Problems of the Self\tTalk\ttalk-1\tGreat Lakes Philosophy Conference\t2021-04-10\tSan Francisco, California\t\tChallenges of control and embodiment in a world where AR is ubiquitous.\n",
      "Expanding Neuro-Symbolic Reasoning for Strategic Learning\tTalk\ttalk-2\tSanta Clara University School of Engineering, 52nd Annual Senior Design Conference\t2021-05-12\tSanta Clara, CA\thttps://www.scu.edu/engineering/undergraduate/senior-design/archives/2022-senior-design/\tSetting the stage for using hybrid AI for more generalizable learning.\n"
     ]
    }
   ],
   "source": [
    "!cat talks.tsv"
   ]
  },
  {
   "cell_type": "markdown",
   "metadata": {},
   "source": [
    "## Import TSV\n",
    "\n",
    "Pandas makes this easy with the read_csv function. We are using a TSV, so we specify the separator as a tab, or `\\t`.\n",
    "\n",
    "I found it important to put this data in a tab-separated values format, because there are a lot of commas in this kind of data and comma-separated values can get messed up. However, you can modify the import statement, as pandas also has read_excel(), read_json(), and others."
   ]
  },
  {
   "cell_type": "code",
   "execution_count": 3,
   "metadata": {
    "collapsed": false,
    "deletable": true,
    "editable": true
   },
   "outputs": [
    {
     "data": {
      "text/html": [
       "<div>\n",
       "<style scoped>\n",
       "    .dataframe tbody tr th:only-of-type {\n",
       "        vertical-align: middle;\n",
       "    }\n",
       "\n",
       "    .dataframe tbody tr th {\n",
       "        vertical-align: top;\n",
       "    }\n",
       "\n",
       "    .dataframe thead th {\n",
       "        text-align: right;\n",
       "    }\n",
       "</style>\n",
       "<table border=\"1\" class=\"dataframe\">\n",
       "  <thead>\n",
       "    <tr style=\"text-align: right;\">\n",
       "      <th></th>\n",
       "      <th>title</th>\n",
       "      <th>type</th>\n",
       "      <th>url_slug</th>\n",
       "      <th>venue</th>\n",
       "      <th>date</th>\n",
       "      <th>location</th>\n",
       "      <th>talk_url</th>\n",
       "      <th>description</th>\n",
       "    </tr>\n",
       "  </thead>\n",
       "  <tbody>\n",
       "    <tr>\n",
       "      <th>0</th>\n",
       "      <td>The Metaverse and Problems of the Self</td>\n",
       "      <td>Talk</td>\n",
       "      <td>talk-1</td>\n",
       "      <td>Great Lakes Philosophy Conference</td>\n",
       "      <td>2021-04-10</td>\n",
       "      <td>San Francisco, California</td>\n",
       "      <td>NaN</td>\n",
       "      <td>Challenges of control and embodiment in a worl...</td>\n",
       "    </tr>\n",
       "    <tr>\n",
       "      <th>1</th>\n",
       "      <td>Expanding Neuro-Symbolic Reasoning for Strateg...</td>\n",
       "      <td>Talk</td>\n",
       "      <td>talk-2</td>\n",
       "      <td>Santa Clara University School of Engineering, ...</td>\n",
       "      <td>2021-05-12</td>\n",
       "      <td>Santa Clara, CA</td>\n",
       "      <td>https://www.scu.edu/engineering/undergraduate/...</td>\n",
       "      <td>Setting the stage for using hybrid AI for more...</td>\n",
       "    </tr>\n",
       "  </tbody>\n",
       "</table>\n",
       "</div>"
      ],
      "text/plain": [
       "                                               title  type url_slug  \\\n",
       "0             The Metaverse and Problems of the Self  Talk   talk-1   \n",
       "1  Expanding Neuro-Symbolic Reasoning for Strateg...  Talk   talk-2   \n",
       "\n",
       "                                               venue        date  \\\n",
       "0                  Great Lakes Philosophy Conference  2021-04-10   \n",
       "1  Santa Clara University School of Engineering, ...  2021-05-12   \n",
       "\n",
       "                    location  \\\n",
       "0  San Francisco, California   \n",
       "1            Santa Clara, CA   \n",
       "\n",
       "                                            talk_url  \\\n",
       "0                                                NaN   \n",
       "1  https://www.scu.edu/engineering/undergraduate/...   \n",
       "\n",
       "                                         description  \n",
       "0  Challenges of control and embodiment in a worl...  \n",
       "1  Setting the stage for using hybrid AI for more...  "
      ]
     },
     "execution_count": 3,
     "metadata": {},
     "output_type": "execute_result"
    }
   ],
   "source": [
    "talks = pd.read_csv(\"talks.tsv\", sep=\"\\t\", header=0)\n",
    "talks"
   ]
  },
  {
   "cell_type": "markdown",
   "metadata": {},
   "source": [
    "## Escape special characters\n",
    "\n",
    "YAML is very picky about how it takes a valid string, so we are replacing single and double quotes (and ampersands) with their HTML encoded equivilents. This makes them look not so readable in raw format, but they are parsed and rendered nicely."
   ]
  },
  {
   "cell_type": "code",
   "execution_count": 4,
   "metadata": {
    "collapsed": false,
    "deletable": true,
    "editable": true
   },
   "outputs": [],
   "source": [
    "html_escape_table = {\n",
    "    \"&\": \"&amp;\",\n",
    "    '\"': \"&quot;\",\n",
    "    \"'\": \"&apos;\"\n",
    "    }\n",
    "\n",
    "def html_escape(text):\n",
    "    if type(text) is str:\n",
    "        return \"\".join(html_escape_table.get(c,c) for c in text)\n",
    "    else:\n",
    "        return \"False\""
   ]
  },
  {
   "cell_type": "markdown",
   "metadata": {},
   "source": [
    "## Creating the markdown files\n",
    "\n",
    "This is where the heavy lifting is done. This loops through all the rows in the TSV dataframe, then starts to concatentate a big string (```md```) that contains the markdown for each type. It does the YAML metadata first, then does the description for the individual page."
   ]
  },
  {
   "cell_type": "code",
   "execution_count": 5,
   "metadata": {
    "collapsed": false,
    "deletable": true,
    "editable": true
   },
   "outputs": [],
   "source": [
    "loc_dict = {}\n",
    "\n",
    "for row, item in talks.iterrows():\n",
    "    \n",
    "    md_filename = str(item.date) + \"-\" + item.url_slug + \".md\"\n",
    "    html_filename = str(item.date) + \"-\" + item.url_slug \n",
    "    year = item.date[:4]\n",
    "    \n",
    "    md = \"---\\ntitle: \\\"\"   + item.title + '\"\\n'\n",
    "    md += \"collection: talks\" + \"\\n\"\n",
    "    \n",
    "    if len(str(item.type)) > 3:\n",
    "        md += 'type: \"' + item.type + '\"\\n'\n",
    "    else:\n",
    "        md += 'type: \"Talk\"\\n'\n",
    "    \n",
    "    md += \"permalink: /talks/\" + html_filename + \"\\n\"\n",
    "    \n",
    "    if len(str(item.venue)) > 3:\n",
    "        md += 'venue: \"' + item.venue + '\"\\n'\n",
    "        \n",
    "    if len(str(item.location)) > 3:\n",
    "        md += \"date: \" + str(item.date) + \"\\n\"\n",
    "    \n",
    "    if len(str(item.location)) > 3:\n",
    "        md += 'location: \"' + str(item.location) + '\"\\n'\n",
    "           \n",
    "    md += \"---\\n\"\n",
    "    \n",
    "    \n",
    "    if len(str(item.talk_url)) > 3:\n",
    "        md += \"\\n[More information here](\" + item.talk_url + \")\\n\" \n",
    "        \n",
    "    \n",
    "    if len(str(item.description)) > 3:\n",
    "        md += \"\\n\" + html_escape(item.description) + \"\\n\"\n",
    "        \n",
    "        \n",
    "    md_filename = os.path.basename(md_filename)\n",
    "    #print(md)\n",
    "    \n",
    "    with open(\"../_talks/\" + md_filename, 'w') as f:\n",
    "        f.write(md)"
   ]
  },
  {
   "cell_type": "markdown",
   "metadata": {},
   "source": [
    "These files are in the talks directory, one directory below where we're working from."
   ]
  },
  {
   "cell_type": "code",
   "execution_count": 6,
   "metadata": {
    "collapsed": false,
    "deletable": true,
    "editable": true
   },
   "outputs": [
    {
     "name": "stdout",
     "output_type": "stream",
     "text": [
      "2012-03-01-talk-1.md     2014-02-01-talk-2.md     2021-04-10-talk-1.md\n",
      "2013-03-01-tutorial-1.md 2014-03-01-talk-3.md     2021-05-12-talk-2.md\n"
     ]
    }
   ],
   "source": [
    "!ls ../_talks"
   ]
  },
  {
   "cell_type": "code",
   "execution_count": 7,
   "metadata": {
    "collapsed": false,
    "deletable": true,
    "editable": true
   },
   "outputs": [
    {
     "name": "stdout",
     "output_type": "stream",
     "text": [
      "---\n",
      "title: \"Tutorial 1 on Relevant Topic in Your Field\"\n",
      "collection: talks\n",
      "type: \"Tutorial\"\n",
      "permalink: /talks/2013-03-01-tutorial-1\n",
      "venue: \"UC-Berkeley Institute for Testing Science\"\n",
      "date: 2013-03-01\n",
      "location: \"Berkeley CA, USA\"\n",
      "---\n",
      "\n",
      "[More information here](http://exampleurl.com)\n",
      "\n",
      "This is a description of your tutorial, note the different field in type. This is a markdown files that can be all markdown-ified like any other post. Yay markdown!\n"
     ]
    }
   ],
   "source": [
    "!cat ../_talks/2013-03-01-tutorial-1.md"
   ]
  }
 ],
 "metadata": {
  "kernelspec": {
   "display_name": "Python 3.9.12 ('base')",
   "language": "python",
   "name": "python3"
  },
  "language_info": {
   "codemirror_mode": {
    "name": "ipython",
    "version": 3
   },
   "file_extension": ".py",
   "mimetype": "text/x-python",
   "name": "python",
   "nbconvert_exporter": "python",
   "pygments_lexer": "ipython3",
   "version": "3.9.15"
  },
  "vscode": {
   "interpreter": {
    "hash": "d08bf61a3a5487eef1f3aec29989d8f73c5dc042c770e362fe18e43ca4d758f5"
   }
  }
 },
 "nbformat": 4,
 "nbformat_minor": 0
}
